{
 "cells": [
  {
   "cell_type": "markdown",
   "metadata": {},
   "source": [
    "# Convert pdf to csv"
   ]
  },
  {
   "cell_type": "code",
   "execution_count": null,
   "metadata": {},
   "outputs": [],
   "source": [
    "# If you don't have tabula:\n",
    "# install with: pip install tabula-py in terminal\n",
    "# example:\n",
    "# change input file to whatever file you want to convert\n",
    "import tabula\n",
    "\n",
    "input_file = \"./Voter_data/03-voter-participation-stats-by-county.pdf\"\n",
    "output_file = \"./Voter_data/voter-participation-11-22.csv\"\n",
    "\n",
    "df = tabula.read_pdf(input_file, pages='all')[0]\n",
    "tabula.convert_into(input_file, output_file, output_format=\"csv\", pages='all')\n",
    "\n"
   ]
  }
 ],
 "metadata": {
  "language_info": {
   "name": "python"
  }
 },
 "nbformat": 4,
 "nbformat_minor": 2
}
